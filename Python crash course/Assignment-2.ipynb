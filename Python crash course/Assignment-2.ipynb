{
  "nbformat": 4,
  "nbformat_minor": 0,
  "metadata": {
    "colab": {
      "provenance": [],
      "collapsed_sections": [
        "K8drWbAlWkkg",
        "Dtm1Q1jglGPB",
        "nUVJvh8tlje-",
        "sjqrOhDImU9p",
        "7SXFedB3nbkv",
        "4Ej2XOK_o-eg",
        "MWxrFJVaHl-7",
        "nySaJbM4ZIyJ",
        "BnpSIx-Sag45",
        "ecuPQqwKdLBE",
        "bIWwUaPhlq2M",
        "UWAqJMBNny4N",
        "B-sOuwzlrZRB",
        "gqmyqSkZw9Ht",
        "Qdo29bSS8Uv1",
        "yzy0DwPzTaQl",
        "Z6keVlIIVIeT",
        "GU0-lNHcXjJC",
        "z9LUOn4Ic7bx",
        "mW1KgxPYgMfz",
        "Wdba5tEQimxT",
        "HEztdkKnj6jW",
        "0WQdgQQamO2d",
        "utkMxK8UraoA",
        "jI5HSXHrs7Hq",
        "n8-FujBptxyV",
        "VPb4XF6pzLjl",
        "o_VVVyO4zvH-",
        "riU19IGl2r8-",
        "ulGNiRNx31WB",
        "MWDftObU4soO",
        "X3AFODrM6EFh",
        "LDYxavv6_SWQ",
        "cWpcWVlqUVfL",
        "03fRzjfQddEd",
        "uPbyd0z8gSHz",
        "VuqDNNcprk1a",
        "VbCm5LActd4D"
      ]
    },
    "kernelspec": {
      "name": "python3",
      "display_name": "Python 3"
    },
    "language_info": {
      "name": "python"
    }
  },
  "cells": [
    {
      "cell_type": "markdown",
      "source": [
        "# **Sagaciti Ai assignment**"
      ],
      "metadata": {
        "id": "K8drWbAlWkkg"
      }
    },
    {
      "cell_type": "markdown",
      "source": [
        "# #Assignment-2\n"
      ],
      "metadata": {
        "id": "Dtm1Q1jglGPB"
      }
    },
    {
      "cell_type": "markdown",
      "source": [
        "#String, Variable declaration:\n",
        "\n",
        "\n"
      ],
      "metadata": {
        "id": "nUVJvh8tlje-"
      }
    },
    {
      "cell_type": "markdown",
      "source": [
        "#1. Write a Python program which accepts the radius of a circle from the user and compute \n",
        "the area.\n",
        "Sample:\n",
        "r = 1.1\n",
        "Area = 3.801327110843650"
      ],
      "metadata": {
        "id": "sjqrOhDImU9p"
      }
    },
    {
      "cell_type": "code",
      "source": [
        "r=float(input())\n",
        "pi=3.14165\n",
        "print(pi*r*r) #perfect value not came"
      ],
      "metadata": {
        "colab": {
          "base_uri": "https://localhost:8080/"
        },
        "id": "JcQgpveNmqQ6",
        "outputId": "f877128b-abef-4f65-e1f5-d8da59a32065"
      },
      "execution_count": null,
      "outputs": [
        {
          "output_type": "stream",
          "name": "stdout",
          "text": [
            "1.1\n",
            "3.8013965000000005\n"
          ]
        }
      ]
    },
    {
      "cell_type": "markdown",
      "source": [
        "#2. Write a Python program which accepts the user's first and last name and print them in \n",
        "reverse order with a space between them.\n",
        "\n",
        "Sample:\n",
        "Input your First Name: Dany\n",
        "\n",
        "Input your Last Name: Boon\n",
        " \n",
        "Hello Boon Dany"
      ],
      "metadata": {
        "id": "7SXFedB3nbkv"
      }
    },
    {
      "cell_type": "code",
      "source": [
        "first_name=input(\"Input your First Name: \")\n",
        "last_name=input(\"Input your Last Name: \")\n",
        "print(\"Hello\",last_name,first_name)"
      ],
      "metadata": {
        "colab": {
          "base_uri": "https://localhost:8080/"
        },
        "id": "yDhkRbleneSw",
        "outputId": "3a76485c-5622-4257-de58-6d25543a3f2e"
      },
      "execution_count": null,
      "outputs": [
        {
          "output_type": "stream",
          "name": "stdout",
          "text": [
            "Input your First Name: Dany\n",
            "Input your Last Name: Boon\n",
            "Hello Boon Dany\n"
          ]
        }
      ]
    },
    {
      "cell_type": "markdown",
      "source": [
        "#3. Write a Python program to calculate the length of a string.\n",
        "\n",
        "Sample String: Bangladesh\n",
        "\n",
        "Expected Result: 10"
      ],
      "metadata": {
        "id": "4Ej2XOK_o-eg"
      }
    },
    {
      "cell_type": "code",
      "source": [
        "string=input()\n",
        "print(len(string))"
      ],
      "metadata": {
        "colab": {
          "base_uri": "https://localhost:8080/"
        },
        "id": "KhY249gWpPkf",
        "outputId": "08fc89fe-543b-482f-9328-f54311d8a0b2"
      },
      "execution_count": null,
      "outputs": [
        {
          "output_type": "stream",
          "name": "stdout",
          "text": [
            "Bangladesh\n",
            "10\n"
          ]
        }
      ]
    },
    {
      "cell_type": "markdown",
      "source": [
        "#4. Write a Python program to count the number of characters (character frequency) in a string.\n",
        "Sample String: google.com'\n",
        "\n",
        "Expected Result: {'g': 2, 'o': 3, 'l': 1, 'e': 1, '.': 1, 'c': 1, 'm': 1}"
      ],
      "metadata": {
        "id": "MWxrFJVaHl-7"
      }
    },
    {
      "cell_type": "markdown",
      "source": [],
      "metadata": {
        "id": "ObSlXfVKpfV5"
      }
    },
    {
      "cell_type": "code",
      "source": [
        "sentence1 =input()\n",
        "count = {}\n",
        "for i in sentence1:\n",
        "    if i in count:\n",
        "        count[i.lower()] = count[i.lower()] + 1\n",
        "    else:\n",
        "        count[i.lower()] = 1\n",
        "print(count)"
      ],
      "metadata": {
        "colab": {
          "base_uri": "https://localhost:8080/"
        },
        "id": "suhREW9uIEwp",
        "outputId": "c68849e8-2dad-4eaf-971b-0fe51e104938"
      },
      "execution_count": null,
      "outputs": [
        {
          "output_type": "stream",
          "name": "stdout",
          "text": [
            "google.com\n",
            "{'g': 2, 'o': 3, 'l': 1, 'e': 1, '.': 1, 'c': 1, 'm': 1}\n"
          ]
        }
      ]
    },
    {
      "cell_type": "code",
      "source": [
        "#another solution by function\n",
        "def solve(string):\n",
        "  output={}\n",
        "  for i in string:\n",
        "    keys=output.keys()\n",
        "    if i not in keys:\n",
        "      output[i.lower()]=1\n",
        "    else:\n",
        "      output[i.lower()]+=1\n",
        "  return output\n",
        "x=input()\n",
        "print(solve(x))"
      ],
      "metadata": {
        "colab": {
          "base_uri": "https://localhost:8080/"
        },
        "id": "Bhww7zC5SZFU",
        "outputId": "78e0b351-f275-4e0b-d81b-84cab3973541"
      },
      "execution_count": null,
      "outputs": [
        {
          "output_type": "stream",
          "name": "stdout",
          "text": [
            "google.com\n",
            "{'g': 2, 'o': 3, 'l': 1, 'e': 1, '.': 1, 'c': 1, 'm': 1}\n"
          ]
        }
      ]
    },
    {
      "cell_type": "markdown",
      "source": [
        "#5. Write a Python program to get a single string from two given strings, separated by a space and swap the first two characters of each string.\n",
        "\n",
        "Sample String: 'abc', 'xyz'\n",
        "\n",
        "Expected Result: 'xyc abz"
      ],
      "metadata": {
        "id": "nySaJbM4ZIyJ"
      }
    },
    {
      "cell_type": "code",
      "source": [
        "a,b=input().split()\n",
        "x=b[:2]+a[2:]\n",
        "y=a[:2]+b[2:]\n",
        "print(x,y)"
      ],
      "metadata": {
        "colab": {
          "base_uri": "https://localhost:8080/"
        },
        "id": "73OTzpXXZbjO",
        "outputId": "994ae71a-16d4-495c-df24-725d77e4fa52"
      },
      "execution_count": null,
      "outputs": [
        {
          "output_type": "stream",
          "name": "stdout",
          "text": [
            "abc xyz\n",
            "xyc abz\n"
          ]
        }
      ]
    },
    {
      "cell_type": "markdown",
      "source": [
        "#6. Write a Python program to add 'ing' at the end of a given string (length should be at least 3) If the given string already ends with 'ing' then add 'ly' instead. If the string length of the given string is less than 3, leave it unchanged.\n",
        "Sample String: 'abc'\n",
        "\n",
        "Expected Result: 'abcing'\n",
        "\n",
        "Sample String: 'string'\n",
        "\n",
        "\n",
        "Expected Result: 'stringly'\n"
      ],
      "metadata": {
        "id": "BnpSIx-Sag45"
      }
    },
    {
      "cell_type": "code",
      "source": [
        "x=input()\n",
        "if x[-3:]==\"ing\":\n",
        "  print(x+\"ly\")\n",
        "else:\n",
        "  print(x+\"ing\")"
      ],
      "metadata": {
        "colab": {
          "base_uri": "https://localhost:8080/"
        },
        "id": "G9NZ49iWa6Ec",
        "outputId": "0b8f9a14-bce1-4d51-a852-4e40653cf46e"
      },
      "execution_count": null,
      "outputs": [
        {
          "output_type": "stream",
          "name": "stdout",
          "text": [
            "string\n",
            "stringly\n"
          ]
        }
      ]
    },
    {
      "cell_type": "markdown",
      "source": [
        "#List:\n",
        "##7. Write a Python program to sum all the items in a list.\n",
        "Sample: [2,3,4,5,6,7]\n",
        "\n",
        "Expected Result: 27"
      ],
      "metadata": {
        "id": "ecuPQqwKdLBE"
      }
    },
    {
      "cell_type": "code",
      "source": [
        "n=int(input(\"how many numbers you want in list?: \"))\n",
        "list1=[]\n",
        "for i in range(n):\n",
        "  list1.append(int(input()))\n",
        "print(\"Your list is:\",list1)  \n",
        "sum_list1=0\n",
        "for i in list1:\n",
        "  sum_list1+=i\n",
        "print(\"sum of list is :\",sum_list1)\n"
      ],
      "metadata": {
        "colab": {
          "base_uri": "https://localhost:8080/"
        },
        "id": "GNgfSSMTdmPL",
        "outputId": "8b227afa-b169-4628-cb09-6f35c776df1b"
      },
      "execution_count": null,
      "outputs": [
        {
          "output_type": "stream",
          "name": "stdout",
          "text": [
            "how many numbers you want in list?: 5\n",
            "2\n",
            "3\n",
            "4\n",
            "5\n",
            "6\n",
            "Your list is: [2, 3, 4, 5, 6]\n",
            "sum of list is : 20\n"
          ]
        }
      ]
    },
    {
      "cell_type": "markdown",
      "source": [
        "# 8. Write a Python program to multiply all the items in a list.\n",
        "Sample: [1,2,3,4,5]\n",
        "\n",
        "Expected Result: 120"
      ],
      "metadata": {
        "id": "bIWwUaPhlq2M"
      }
    },
    {
      "cell_type": "code",
      "source": [
        "n=int(input(\"How many numbers you want in list?: \"))\n",
        "list1=[]\n",
        "for i in range(n):\n",
        "  list1.append(int(input()))\n",
        "print(\"Your list is :\",list1)\n",
        "sum_list=1\n",
        "for i in list1:\n",
        "  sum_list*=i\n",
        "print(\"sum of list is :\",sum_list)"
      ],
      "metadata": {
        "colab": {
          "base_uri": "https://localhost:8080/"
        },
        "id": "cmHGf7wFmBDA",
        "outputId": "aef4053a-88e4-4e40-d3b7-2f0fc26af82f"
      },
      "execution_count": null,
      "outputs": [
        {
          "output_type": "stream",
          "name": "stdout",
          "text": [
            "How many numbers you want in list?: 5\n",
            "1\n",
            "2\n",
            "3\n",
            "4\n",
            "5\n",
            "Your list is : [1, 2, 3, 4, 5]\n",
            "sum of list is : 120\n"
          ]
        }
      ]
    },
    {
      "cell_type": "markdown",
      "source": [
        "#9. Write a Python program to get the largest number from a list."
      ],
      "metadata": {
        "id": "UWAqJMBNny4N"
      }
    },
    {
      "cell_type": "code",
      "source": [
        "n=int(input(\"How many numbers you want in list?: \"))\n",
        "list1=[]\n",
        "for i in range(n):\n",
        "  list1.append(int(input()))\n",
        "print(\"Your list is :\",list1)\n",
        "list1.sort()\n",
        "print(\"The largest number is:\",list1[n-1])"
      ],
      "metadata": {
        "colab": {
          "base_uri": "https://localhost:8080/"
        },
        "id": "eRZF_GiUn9TT",
        "outputId": "b793a4b4-cbf5-4acf-b004-b74cceb63a5e"
      },
      "execution_count": null,
      "outputs": [
        {
          "output_type": "stream",
          "name": "stdout",
          "text": [
            "How many numbers you want in list?: 5\n",
            "1\n",
            "2\n",
            "3\n",
            "4\n",
            "5\n",
            "Your list is : [1, 2, 3, 4, 5]\n",
            "The largest number is: 5\n"
          ]
        }
      ]
    },
    {
      "cell_type": "markdown",
      "source": [
        "#10. Write a Python program to remove duplicates from a list."
      ],
      "metadata": {
        "id": "B-sOuwzlrZRB"
      }
    },
    {
      "cell_type": "code",
      "source": [
        "n=int(input(\"How many numbers you want in list?: \"))\n",
        "list1=[]\n",
        "for i in range(n):\n",
        "  list1.append(int(input()))\n",
        "print(\"Your list is :\",list1)\n",
        "result=[]\n",
        "for i in list1:\n",
        "  if i not in result:\n",
        "    result.append(i)\n",
        "print(\"Your list without duplicate\",result)\n"
      ],
      "metadata": {
        "colab": {
          "base_uri": "https://localhost:8080/"
        },
        "id": "D5lUM-G_rijY",
        "outputId": "99ea46f0-97ea-45ac-a8c4-39833d2647e9"
      },
      "execution_count": null,
      "outputs": [
        {
          "output_type": "stream",
          "name": "stdout",
          "text": [
            "How many numbers you want in list?: 4\n",
            "1\n",
            "2\n",
            "4\n",
            "4\n",
            "Your list is : [1, 2, 4, 4]\n",
            "Your list without duplicate [1, 2, 4]\n"
          ]
        }
      ]
    },
    {
      "cell_type": "markdown",
      "source": [
        "#11. Write a Python program to print a specified list after removing the 0th, 4th and 5th elements.\n",
        "Sample List: ['Red', 'Green', 'White', 'Black', 'Pink', 'Yellow']\n",
        "\n",
        "Expected Output: ['Green', 'White', 'Black']"
      ],
      "metadata": {
        "id": "gqmyqSkZw9Ht"
      }
    },
    {
      "cell_type": "code",
      "source": [
        "n=int(input(\"How many numbers you want in list?: \"))\n",
        "list1=[]\n",
        "for i in range(n):\n",
        "  list1.append((input()))\n",
        "print(\"Your list is :\",list1)\n",
        "del list1[0]\n",
        "list1.pop(len(list1)-1)\n",
        "list1.pop(len(list1)-1)\n",
        "print(list1)"
      ],
      "metadata": {
        "colab": {
          "base_uri": "https://localhost:8080/"
        },
        "id": "sExIc32sxSDu",
        "outputId": "14693237-f500-4716-b67b-ca456bde8d6a"
      },
      "execution_count": null,
      "outputs": [
        {
          "output_type": "stream",
          "name": "stdout",
          "text": [
            "How many numbers you want in list?: 6\n",
            "\"red\"\n",
            "\"green\"\n",
            "\"white\"\n",
            "\"black\"\n",
            "\"pink\"\n",
            "\"yellow\"\n",
            "Your list is : ['\"red\"', '\"green\"', '\"white\"', '\"black\"', '\"pink\"', '\"yellow\"']\n",
            "['\"green\"', '\"white\"', '\"black\"']\n"
          ]
        }
      ]
    },
    {
      "cell_type": "markdown",
      "source": [
        "#12. Write a Python program to create a list by concatenating a given list which range goes \n",
        "from 1 to n.\n",
        "\n",
        "Sample list: ['p', 'q']\n",
        "\n",
        "n =5\n",
        "\n",
        "Output: ['p1', 'q1', 'p2', 'q2', 'p3', 'q3', 'p4', 'q4', 'p5', 'q5']"
      ],
      "metadata": {
        "id": "Qdo29bSS8Uv1"
      }
    },
    {
      "cell_type": "code",
      "source": [
        "num=int(input(\"How many numbers you want in list?: \"))\n",
        "list1=[]\n",
        "for i in range(num):\n",
        "  list1.append((input()))\n",
        "print(\"Your list is :\",list1)\n",
        "list2=[]\n",
        "n=int(input(\"Enter a number: \"))\n",
        "p=1\n",
        "while p<=(n):\n",
        "    for i in list1:\n",
        "     \n",
        "        z=str(p)\n",
        "        \n",
        "        list2.append(i+z)\n",
        "    p+=1\n",
        "print(list2)\n",
        "\n"
      ],
      "metadata": {
        "colab": {
          "base_uri": "https://localhost:8080/"
        },
        "id": "QR0KdcWt9C81",
        "outputId": "386ec7a3-d9d8-4502-8eb8-81334cc16a04"
      },
      "execution_count": null,
      "outputs": [
        {
          "output_type": "stream",
          "name": "stdout",
          "text": [
            "How many numbers you want in list?: 2\n",
            "p\n",
            "q\n",
            "Your list is : ['p', 'q']\n",
            "Enter a number: 5\n",
            "['p1', 'q1', 'p2', 'q2', 'p3', 'q3', 'p4', 'q4', 'p5', 'q5']\n"
          ]
        }
      ]
    },
    {
      "cell_type": "markdown",
      "source": [
        "#13. Write a Python program to change the position of every n-th value with the (n+1) th in a list. \n",
        "Sample list: [0,1,2,3,4,5]\n",
        "\n",
        "Expected Output: [1, 0, 3, 2, 5, 4]"
      ],
      "metadata": {
        "id": "yzy0DwPzTaQl"
      }
    },
    {
      "cell_type": "code",
      "source": [
        "from itertools import zip_longest, chain, tee\n",
        "def replace2copy(lst):\n",
        "    lst1, lst2 = tee(iter(lst), 2)\n",
        "    return list(chain.from_iterable(zip_longest(lst[1::2], lst[::2])))\n",
        "num=int(input(\"How many numbers you want in list?: \"))\n",
        "list1=[]\n",
        "for i in range(num):\n",
        "  list1.append(int(input()))\n",
        "\n",
        "print(replace2copy(list1))"
      ],
      "metadata": {
        "colab": {
          "base_uri": "https://localhost:8080/"
        },
        "id": "jvNJTVibT_kY",
        "outputId": "e498aecb-b33b-491a-d4d2-c496b4826343"
      },
      "execution_count": null,
      "outputs": [
        {
          "output_type": "stream",
          "name": "stdout",
          "text": [
            "How many numbers you want in list?: 6\n",
            "0\n",
            "1\n",
            "2\n",
            "3\n",
            "4\n",
            "5\n",
            "[1, 0, 3, 2, 5, 4]\n"
          ]
        }
      ]
    },
    {
      "cell_type": "markdown",
      "source": [
        "#14. Write a Python program to select the odd items of a list."
      ],
      "metadata": {
        "id": "Z6keVlIIVIeT"
      }
    },
    {
      "cell_type": "code",
      "source": [
        "num=int(input(\"How many numbers you want in list?: \"))\n",
        "list1=[]\n",
        "for i in range(num):\n",
        "  list1.append(int(input()))\n",
        "print(\"Your list is :\",list1)\n",
        "list2=[]\n",
        "for i in list1:\n",
        "  if i%2!=0:\n",
        "    list2.append(i)\n",
        "print(list2)  "
      ],
      "metadata": {
        "colab": {
          "base_uri": "https://localhost:8080/"
        },
        "id": "pjZRluO7VDdS",
        "outputId": "61f74bee-95a2-4d10-ab1c-c3fe7d2190dc"
      },
      "execution_count": null,
      "outputs": [
        {
          "output_type": "stream",
          "name": "stdout",
          "text": [
            "How many numbers you want in list?: 10\n",
            "1\n",
            "2\n",
            "3\n",
            "4\n",
            "5\n",
            "6\n",
            "7\n",
            "8\n",
            "9\n",
            "10\n",
            "Your list is : [1, 2, 3, 4, 5, 6, 7, 8, 9, 10]\n",
            "[1, 3, 5, 7, 9]\n"
          ]
        }
      ]
    },
    {
      "cell_type": "markdown",
      "source": [
        "#Condition:\n",
        "#15. Write a python program to get the absolute difference between n and 51. If n is greater than 51 return triple the absolute difference.\n",
        "Expected Output:\n",
        "\n",
        "6\n",
        "\n",
        "21\n",
        "\n",
        "0\n"
      ],
      "metadata": {
        "id": "GU0-lNHcXjJC"
      }
    },
    {
      "cell_type": "code",
      "source": [
        "# I can't realise this problem.So I could not do this problem."
      ],
      "metadata": {
        "id": "fvo1S6R-Xir7"
      },
      "execution_count": null,
      "outputs": []
    },
    {
      "cell_type": "markdown",
      "source": [
        "#16. Write a python program to check whether a given number is even or odd. \n",
        "Sample input: 15\n",
        "\n",
        "Expected Output: 15 is an odd integer"
      ],
      "metadata": {
        "id": "z9LUOn4Ic7bx"
      }
    },
    {
      "cell_type": "code",
      "source": [
        "n=int(input())\n",
        "if n%2==0:\n",
        "  print(n,\"is even number.\")\n",
        "else:\n",
        "  print(n,\"is odd number.\")"
      ],
      "metadata": {
        "colab": {
          "base_uri": "https://localhost:8080/"
        },
        "id": "VwrA1l0sdPZ5",
        "outputId": "311237e3-1286-4c57-f3b9-713e94a00b7e"
      },
      "execution_count": null,
      "outputs": [
        {
          "output_type": "stream",
          "name": "stdout",
          "text": [
            "15\n",
            "15 is odd number.\n"
          ]
        }
      ]
    },
    {
      "cell_type": "markdown",
      "source": [
        "#17. Write a python program to find whether a given year is a leap year or not\n",
        "Sample input: 2016\n",
        "\n",
        "Expected Output: 2016 is a leap year."
      ],
      "metadata": {
        "id": "mW1KgxPYgMfz"
      }
    },
    {
      "cell_type": "code",
      "source": [
        "n=int(input())\n",
        "if n%4==0 or n%400==0:\n",
        "  print(n,\"is a leap year.\")\n",
        "else:\n",
        "  print(n,\"is not a leap year.\")"
      ],
      "metadata": {
        "colab": {
          "base_uri": "https://localhost:8080/"
        },
        "id": "OCKUE9K_gaoU",
        "outputId": "960f91ec-e32e-4842-bc99-441d32c5ed64"
      },
      "execution_count": null,
      "outputs": [
        {
          "output_type": "stream",
          "name": "stdout",
          "text": [
            "2016\n",
            "2016 is a leap year.\n"
          ]
        }
      ]
    },
    {
      "cell_type": "markdown",
      "source": [
        "#18. Write a python program to read the age of a candidate and determine whether it is eligible for casting his/her own vote\n",
        "\n",
        "Sample input: 21\n",
        "\n",
        "Expected Output: Congratulation! You are eligible for casting your vote."
      ],
      "metadata": {
        "id": "Wdba5tEQimxT"
      }
    },
    {
      "cell_type": "code",
      "source": [
        "n=int(input())\n",
        "if n>0:\n",
        "  if n<18:\n",
        "    print(\"You are not eligible for vote.\")\n",
        "  else:\n",
        "    print(\"Congratulation! You are eligible for casting your vote.\")\n",
        "else:\n",
        "  print(\"please input correct age.\")\n"
      ],
      "metadata": {
        "colab": {
          "base_uri": "https://localhost:8080/"
        },
        "id": "eoDuarqMi4Vz",
        "outputId": "24deffe0-b488-409d-cee3-90f54889ea3a"
      },
      "execution_count": null,
      "outputs": [
        {
          "output_type": "stream",
          "name": "stdout",
          "text": [
            "18\n",
            "Congratulation! You are eligible for casting your vote.\n"
          ]
        }
      ]
    },
    {
      "cell_type": "markdown",
      "source": [
        "#19. Write a python program to find the largest of three numbers.\n",
        "Sample input: 12 25 52\n",
        "\n",
        "Expected Output:\n",
        "\n",
        "1st Number = 12, 2nd Number = 25, 3rd Number = 52\n",
        "\n",
        "The 3rd Number is the greatest among three"
      ],
      "metadata": {
        "id": "HEztdkKnj6jW"
      }
    },
    {
      "cell_type": "code",
      "source": [
        "a,b,c=input().split()\n",
        "x=int(a)\n",
        "y=int(b)\n",
        "z=int(c)\n",
        "print(\"1st Number =\",x,\", 2nd Number =\",y,\", 3rd Number =\",z)\n",
        "if x>y and x>z:\n",
        "  print(\"The 1st number is the greatest among three.\")\n",
        "elif y>x and y>z:\n",
        "  print(\"The 2nd number is the greatest among three.\")\n",
        "else:\n",
        "  print(\"The 3rd number is the greatest among three.\")"
      ],
      "metadata": {
        "colab": {
          "base_uri": "https://localhost:8080/"
        },
        "id": "Pl_fjJSkkMUG",
        "outputId": "3eec1b8d-a6ab-4bfd-bd20-1bf11c84de0a"
      },
      "execution_count": null,
      "outputs": [
        {
          "output_type": "stream",
          "name": "stdout",
          "text": [
            "12 25 57\n",
            "1st Number = 12 , 2nd Number = 25 , 3rd Number = 57\n",
            "The 3rd number is the greatest among three.\n"
          ]
        }
      ]
    },
    {
      "cell_type": "markdown",
      "source": [
        "#20. Write a python program to check whether a triangle is Equilateral, Isosceles or Scalene\n",
        "\n",
        "Sample input: 50 50 60\n",
        "\n",
        "Expected Output: This is an isosceles triangle."
      ],
      "metadata": {
        "id": "0WQdgQQamO2d"
      }
    },
    {
      "cell_type": "code",
      "source": [
        "a,b,c=input().split()\n",
        "x=int(a)\n",
        "y=int(b)\n",
        "z=int(c)\n",
        "if x==y and y==z and x==z:\n",
        "  print(\"This is an equilateral triangle.\")\n",
        "elif x==y or y==z or z==x:\n",
        "  print(\"This is an isosceles triangle.\")\n",
        "else:\n",
        "  print(\"This is an scalene triangle.\")"
      ],
      "metadata": {
        "colab": {
          "base_uri": "https://localhost:8080/"
        },
        "id": "yx9U_RSsn0V9",
        "outputId": "53e24788-32b0-4e1d-e0e5-dc14a969d113"
      },
      "execution_count": null,
      "outputs": [
        {
          "output_type": "stream",
          "name": "stdout",
          "text": [
            "50 50 60\n",
            "This is an isosceles triangle.\n"
          ]
        }
      ]
    },
    {
      "cell_type": "markdown",
      "source": [],
      "metadata": {
        "id": "MTr77gvzp7iF"
      }
    },
    {
      "cell_type": "markdown",
      "source": [
        "#21. Write a program in python which is a Menu-Driven Program to perform a simple calculation.\n",
        "Sample input:\n",
        "\n",
        "10\n",
        "\n",
        "2\n",
        "\n",
        "3\n",
        "\n",
        "Expected Output: The Multiplication of 10 and 2 is: 20"
      ],
      "metadata": {
        "id": "utkMxK8UraoA"
      }
    },
    {
      "cell_type": "code",
      "source": [
        "a=int(input())\n",
        "b=int(input())\n",
        "c=int(input())\n",
        "if c==1:\n",
        "  print(a+b)\n",
        "elif c==2:\n",
        "  print(a-b)\n",
        "elif c==3:\n",
        "  print(a*b)\n",
        "elif c==4:\n",
        "  print(a/b)\n",
        "else:\n",
        "  print(\"Give a 3rd number (1-4).\")"
      ],
      "metadata": {
        "colab": {
          "base_uri": "https://localhost:8080/"
        },
        "id": "mKZwhwu4rwyW",
        "outputId": "08a222af-fdd6-425b-e96f-f368c15f96a0"
      },
      "execution_count": null,
      "outputs": [
        {
          "output_type": "stream",
          "name": "stdout",
          "text": [
            "10\n",
            "2\n",
            "5\n",
            "Give a number 1-4.\n"
          ]
        }
      ]
    },
    {
      "cell_type": "markdown",
      "source": [
        "#22. Write a python program to check whether an alphabet is a vowel or consonant. \n",
        "Sample input: k\n",
        "\n",
        "Expected Output: The alphabet is a consonant."
      ],
      "metadata": {
        "id": "jI5HSXHrs7Hq"
      }
    },
    {
      "cell_type": "code",
      "source": [
        "alp=input()\n",
        "vowel=\"aeiouAEIOU\"\n",
        "if alp in vowel:\n",
        "  print(\"The alphabet is a vowel.\")\n",
        "else:\n",
        "  print(\"The alphabet is a consonant.\")"
      ],
      "metadata": {
        "colab": {
          "base_uri": "https://localhost:8080/"
        },
        "id": "aXKhq_3BtEAg",
        "outputId": "3aa75bef-eec8-4d82-e19c-e7962e433127"
      },
      "execution_count": null,
      "outputs": [
        {
          "output_type": "stream",
          "name": "stdout",
          "text": [
            "a\n",
            "The alphabet is a vowel.\n"
          ]
        }
      ]
    },
    {
      "cell_type": "markdown",
      "source": [
        "#23. Write a python program to read marks of three subjects and calculate the total, percentage and division.\n",
        "Sample input:\n",
        "\n",
        "Input the marks of Physics, Chemistry and Computer Application: 70 80 90\n",
        "\n",
        "Expected Output:\n",
        "\n",
        "Roll No: 784\n",
        "\n",
        "Name of Student: James\n",
        "\n",
        "Marks in Physics: 70\n",
        "\n",
        "Marks in Chemistry: 80\n",
        "\n",
        "Marks in Computer Application: 90\n",
        "\n",
        "Total Marks = 240\n",
        "\n",
        "Percentage = 80.00\n",
        "\n",
        "Division = First"
      ],
      "metadata": {
        "id": "n8-FujBptxyV"
      }
    },
    {
      "cell_type": "code",
      "source": [
        "roll=int(input(\"Roll No: \"))\n",
        "name=input(\"Name of Student: \")\n",
        "phy=int(input(\"Marks in physics: \"))\n",
        "che=int(input(\"Marks in Chemistry: \"))\n",
        "cse=int(input(\"Marks in Computer Application: \"))\n",
        "per=(phy+che+cse)/3\n",
        "print(\"Total Marks =\",(phy+che+cse))\n",
        "print(\"Percentage =\",per)\n",
        "if per>=80 and per<=100:\n",
        "  print(\"Division = First\")\n",
        "else:\n",
        "  print(\"Division = Second\") # I could give more condition if i wanted but it would be a waste of time.\n"
      ],
      "metadata": {
        "colab": {
          "base_uri": "https://localhost:8080/"
        },
        "id": "2ovGicNOumHs",
        "outputId": "fdfec656-1143-4bd1-8a53-5bef36a4fb3e"
      },
      "execution_count": null,
      "outputs": [
        {
          "output_type": "stream",
          "name": "stdout",
          "text": [
            "Roll No: 784\n",
            "Name of Student: Mahid\n",
            "Marks in physics: 70\n",
            "Marks in Chemistry: 80\n",
            "Marks in Computer Application: 90\n",
            "Total Marks = 240\n",
            "Percentage = 80.0\n",
            "Division = First\n"
          ]
        }
      ]
    },
    {
      "cell_type": "markdown",
      "source": [
        "#Loop\n",
        "#24. Write a program in python to display the first 10 natural numbers.\n",
        "Expected Output:\n",
        "1 2 3 4 5 6 7 8 9 10"
      ],
      "metadata": {
        "id": "VPb4XF6pzLjl"
      }
    },
    {
      "cell_type": "code",
      "source": [
        "for i in range(1,11):\n",
        "  print(i,end=\" \")"
      ],
      "metadata": {
        "colab": {
          "base_uri": "https://localhost:8080/"
        },
        "id": "ncocNH0zzdp1",
        "outputId": "97e936e3-890b-4d1f-a6b9-2574df8eb14d"
      },
      "execution_count": null,
      "outputs": [
        {
          "output_type": "stream",
          "name": "stdout",
          "text": [
            "1 2 3 4 5 6 7 8 9 10 "
          ]
        }
      ]
    },
    {
      "cell_type": "markdown",
      "source": [
        "#25. Write a program in python to display n terms of natural number and their sum.\n",
        "Sample input: 7\n",
        "\n",
        "Expected Output:\n",
        "\n",
        "The first 7 natural number is:\n",
        "\n",
        "1 2 3 4 5 6 7\n",
        "\n",
        "The Sum of Natural Number up to 7 terms: 28"
      ],
      "metadata": {
        "id": "o_VVVyO4zvH-"
      }
    },
    {
      "cell_type": "code",
      "source": [
        "n=int(input())\n",
        "sum=0\n",
        "print(\"The first\",n,\"natural number is:\")\n",
        "for i in range(1,n+1):\n",
        "  sum+=i\n",
        "  print(i,end=\" \")\n",
        "\n",
        "print(\"\\nThe Sum of Natural Number up to\",n,\"terms:\",sum)"
      ],
      "metadata": {
        "colab": {
          "base_uri": "https://localhost:8080/"
        },
        "id": "k8wd1KXz0KYg",
        "outputId": "2e728784-3bf3-49dd-ff2a-a631f006b931"
      },
      "execution_count": null,
      "outputs": [
        {
          "output_type": "stream",
          "name": "stdout",
          "text": [
            "7\n",
            "The first 7 natural number is:\n",
            "1 2 3 4 5 6 7 \n",
            "The Sum of Natural Number up to 7 terms: 28\n"
          ]
        }
      ]
    },
    {
      "cell_type": "markdown",
      "source": [
        "#26. Write a program in python to display the cube of the number up to given an integer. \n",
        "Sample input:\n",
        "\n",
        "Input number of terms: 5\n",
        "\n",
        "Expected Output:\n",
        "\n",
        "Number is: 1 and cube of the 1 is :1\n",
        "\n",
        "Number is: 2 and cube of the 2 is :8\n",
        "\n",
        "Number is: 3 and cube of the 3 is :27\n",
        "\n",
        "Number is: 4 and cube of the 4 is :64\n",
        "\n",
        "Number is: 5 and cube of the 5 is :125"
      ],
      "metadata": {
        "id": "riU19IGl2r8-"
      }
    },
    {
      "cell_type": "code",
      "source": [
        "n=int(input(\"Input number of terms: \"))\n",
        "for i in range(1,n+1):\n",
        "  print(\"Number is:\",i,\"and cube of the\",i,\"is :\",i**3)"
      ],
      "metadata": {
        "colab": {
          "base_uri": "https://localhost:8080/"
        },
        "id": "zEXLXe1Z3Ea2",
        "outputId": "5591892b-183f-4a2f-d691-2317208aff28"
      },
      "execution_count": null,
      "outputs": [
        {
          "output_type": "stream",
          "name": "stdout",
          "text": [
            "Input number of terms: 5\n",
            "Number is: 1 and cube of the 1 is : 1\n",
            "Number is: 2 and cube of the 2 is : 8\n",
            "Number is: 3 and cube of the 3 is : 27\n",
            "Number is: 4 and cube of the 4 is : 64\n",
            "Number is: 5 and cube of the 5 is : 125\n"
          ]
        }
      ]
    },
    {
      "cell_type": "markdown",
      "source": [
        "#27. Write a program in python to display the multiplication table of a given integer.\n",
        "Sample input:\n",
        "\n",
        "Input the number (Table to be calculated): 15\n",
        "\n",
        "Expected Output:\n",
        "\n",
        "15 X 1 = 15\n",
        "...\n",
        "... \n",
        "\n",
        "15 X 10 = 150"
      ],
      "metadata": {
        "id": "ulGNiRNx31WB"
      }
    },
    {
      "cell_type": "code",
      "source": [
        "n=int(input(\"Input the number (Table to be calculated):\"))\n",
        "for i in range(1,11):\n",
        "  print(n,\"X\",i,\"=\",n*i)"
      ],
      "metadata": {
        "colab": {
          "base_uri": "https://localhost:8080/"
        },
        "id": "O-bjKRNI4EyK",
        "outputId": "4dfa4ae6-9bcb-46fa-c898-216273bc3e3b"
      },
      "execution_count": null,
      "outputs": [
        {
          "output_type": "stream",
          "name": "stdout",
          "text": [
            "Input the number (Table to be calculated):15\n",
            "15 X 1 = 15\n",
            "15 X 2 = 30\n",
            "15 X 3 = 45\n",
            "15 X 4 = 60\n",
            "15 X 5 = 75\n",
            "15 X 6 = 90\n",
            "15 X 7 = 105\n",
            "15 X 8 = 120\n",
            "15 X 9 = 135\n",
            "15 X 10 = 150\n"
          ]
        }
      ]
    },
    {
      "cell_type": "markdown",
      "source": [
        "#28. Write a program in python to display the pattern like right angle triangle using an \n",
        "asterisk. \n",
        "The pattern like:\n",
        "\n",
        "*\n",
        "\n",
        "**\n",
        "\n",
        "***\n",
        "\n",
        "****\n"
      ],
      "metadata": {
        "id": "MWDftObU4soO"
      }
    },
    {
      "cell_type": "code",
      "source": [
        "n=int(input())\n",
        "x=\"*\"\n",
        "for i in range(n+1):\n",
        "  print(i*x)"
      ],
      "metadata": {
        "colab": {
          "base_uri": "https://localhost:8080/"
        },
        "id": "WfW8OMVV48zr",
        "outputId": "8a5c7396-bf67-4627-a873-d087f9e156a5"
      },
      "execution_count": null,
      "outputs": [
        {
          "output_type": "stream",
          "name": "stdout",
          "text": [
            "5\n",
            "\n",
            "*\n",
            "**\n",
            "***\n",
            "****\n",
            "*****\n"
          ]
        }
      ]
    },
    {
      "cell_type": "markdown",
      "source": [
        "#29. Write a program in python to make such a pattern like right angle triangle with a number \n",
        "which will repeat a number in a row. \n",
        "\n",
        "The pattern like:\n",
        "\n",
        "1\n",
        "\n",
        "22\n",
        "\n",
        "333\n",
        "\n",
        "4444"
      ],
      "metadata": {
        "id": "X3AFODrM6EFh"
      }
    },
    {
      "cell_type": "code",
      "source": [
        "n=int(input(\"Enter a number for pattern:\"))\n",
        "m=\"\"\n",
        "for i in range(1,n+1):\n",
        "  for j in range(1,i+1):\n",
        "    print(i,end=\" \")\n",
        "  print(m)\n",
        "\n",
        "  \n",
        " \n"
      ],
      "metadata": {
        "colab": {
          "base_uri": "https://localhost:8080/"
        },
        "id": "faq8HbfF6Svd",
        "outputId": "5089df63-9a95-43f1-90cd-0580ed41e41f"
      },
      "execution_count": null,
      "outputs": [
        {
          "output_type": "stream",
          "name": "stdout",
          "text": [
            "Enter a number for pattern:4\n",
            "1 \n",
            "2 2 \n",
            "3 3 3 \n",
            "4 4 4 4 \n"
          ]
        }
      ]
    },
    {
      "cell_type": "markdown",
      "source": [
        "#30. Write a program in python to make such a pattern like a pyramid with numbers increased \n",
        "by 1\n",
        "\n",
        "The pattern like:\n",
        "\n",
        "1 \n",
        "\n",
        "2 3\n",
        "\n",
        "4 5 6\n",
        " \n",
        "7 8 9 10"
      ],
      "metadata": {
        "id": "LDYxavv6_SWQ"
      }
    },
    {
      "cell_type": "code",
      "source": [
        "n=int(input(\"How many row you want?:\"))\n",
        "num=1\n",
        "for i in range(1,n+1):\n",
        "  for j in range(1,i+1):\n",
        "    print(num,end=\" \")\n",
        "    num+=1\n",
        "  print()"
      ],
      "metadata": {
        "colab": {
          "base_uri": "https://localhost:8080/"
        },
        "id": "bmGxcth8Ax-M",
        "outputId": "8e0d2ff0-0e99-4963-b1af-7369e9f9a175"
      },
      "execution_count": null,
      "outputs": [
        {
          "output_type": "stream",
          "name": "stdout",
          "text": [
            "How many row you want?:4\n",
            "1 \n",
            "2 3 \n",
            "4 5 6 \n",
            "7 8 9 10 \n"
          ]
        }
      ]
    },
    {
      "cell_type": "markdown",
      "source": [
        "#31. Write a program in python to display the sum of the series [ 9 + 99 + 999 + 9999 ...].\n",
        "Sample:\n",
        "\n",
        "Input the number or terms :5\n",
        "\n",
        "Expected Output :\n",
        "9 99 999 9999 99999\n",
        "\n",
        "The sum of the saries = 111105"
      ],
      "metadata": {
        "id": "cWpcWVlqUVfL"
      }
    },
    {
      "cell_type": "code",
      "source": [
        "n=int(input(\"Input the number or terms :\"))\n",
        "for i in range(1,n+1):\n",
        "  for j in range(1,i+1):\n",
        "    print(9,end=\"\")\n",
        "  print(end=\" \")\n",
        "Sn=int(((10/9)*((10**n)-1)-n))\n",
        "print(\"\\nThe sum of the saries =\",Sn)\n",
        "\n"
      ],
      "metadata": {
        "colab": {
          "base_uri": "https://localhost:8080/"
        },
        "id": "ncdHwQRrVGiF",
        "outputId": "d172cff6-46ab-46cf-a1da-9eea331cd246"
      },
      "execution_count": null,
      "outputs": [
        {
          "output_type": "stream",
          "name": "stdout",
          "text": [
            "Input the number or terms :5\n",
            "9 99 999 9999 99999 \n",
            "The sum of the saries = 111105\n"
          ]
        }
      ]
    },
    {
      "cell_type": "markdown",
      "source": [
        "#32. Write a python program to check whether a given number is an armstrong number or not. \n",
        "Sample:\n",
        "\n",
        "Input a number: 153\n",
        "\n",
        "Expected Output:\n",
        "153 is an Armstrong number."
      ],
      "metadata": {
        "id": "03fRzjfQddEd"
      }
    },
    {
      "cell_type": "code",
      "source": [
        "num = int(input(\"Enter a number: \"))\n",
        "sum=0\n",
        "temp = num\n",
        "\n",
        "n = len(str(num))\n",
        "  \n",
        "while temp > 0:\n",
        "    digit = temp % 10\n",
        "    sum += digit ** n\n",
        "    temp //= 10\n",
        "if sum == num:\n",
        "    print(num,'is an Armstrong Number')\n",
        "else:\n",
        "    print(num,'is not an Armstrong Number')"
      ],
      "metadata": {
        "colab": {
          "base_uri": "https://localhost:8080/"
        },
        "id": "iJg_dZSSdwIo",
        "outputId": "8e9d4a57-5e09-4596-cdeb-9157f20f4b2c"
      },
      "execution_count": null,
      "outputs": [
        {
          "output_type": "stream",
          "name": "stdout",
          "text": [
            "Enter a number: 153\n",
            "153 is an Armstrong Number\n"
          ]
        }
      ]
    },
    {
      "cell_type": "markdown",
      "source": [],
      "metadata": {
        "id": "RFYV9YFRECjA"
      }
    },
    {
      "cell_type": "markdown",
      "source": [
        "#33. Write a python program to display Pascal’s triangle. \n",
        "Sample:\n",
        "\n",
        "Input number of rows: 5\n",
        "\n",
        "Expected Output:\n",
        "\n",
        "1\n",
        "\n",
        "1 1\n",
        "\n",
        "1 2 1 \n",
        "\n",
        "1 3 3 1\n",
        "\n",
        "1 4 6 4 1"
      ],
      "metadata": {
        "id": "uPbyd0z8gSHz"
      }
    },
    {
      "cell_type": "code",
      "source": [
        "# This problem is very difficult and hard.i don't know how to solve this problem..."
      ],
      "metadata": {
        "colab": {
          "base_uri": "https://localhost:8080/"
        },
        "id": "oIRG6v0TgsJL",
        "outputId": "a9c4e12b-e4ca-43ce-9039-fbd339b834c9"
      },
      "execution_count": null,
      "outputs": [
        {
          "output_type": "stream",
          "name": "stdout",
          "text": [
            "Enter a number: 5\n",
            "1   \n",
            "1   1   \n",
            "1   2   4   \n",
            "1   3   12   36   \n",
            "1   4   24   144   576   \n"
          ]
        }
      ]
    },
    {
      "cell_type": "markdown",
      "source": [
        "#Break Continue\n",
        "#34. The print statement after the for loop displays the sum of first 5 elements of the tuple numbers.\n",
        "Output: sum of the first 5 integers is :15"
      ],
      "metadata": {
        "id": "VuqDNNcprk1a"
      }
    },
    {
      "cell_type": "code",
      "source": [
        "n=0\n",
        "for i in range(1,6):\n",
        "  n+=i\n",
        "print(n)\n",
        " "
      ],
      "metadata": {
        "colab": {
          "base_uri": "https://localhost:8080/"
        },
        "id": "uc_zLwD_sppc",
        "outputId": "08242c36-fc27-4b10-be61-ac147bf682d5"
      },
      "execution_count": null,
      "outputs": [
        {
          "output_type": "stream",
          "name": "stdout",
          "text": [
            "15\n"
          ]
        }
      ]
    },
    {
      "cell_type": "markdown",
      "source": [
        "#35. The continue statement is used in a while or for loop to take the control to the top of the loop without executing the rest statements inside the loop\n",
        "Output:\n",
        "\n",
        "0\n",
        "\n",
        "1\n",
        "\n",
        "2\n",
        "\n",
        "3"
      ],
      "metadata": {
        "id": "VbCm5LActd4D"
      }
    },
    {
      "cell_type": "code",
      "source": [
        "#I can't understand this question..."
      ],
      "metadata": {
        "id": "RbpDwICIvFj-"
      },
      "execution_count": null,
      "outputs": []
    },
    {
      "cell_type": "markdown",
      "source": [],
      "metadata": {
        "id": "tSWVSUL1wRjI"
      }
    },
    {
      "cell_type": "markdown",
      "source": [
        "#36. Write a while loop to display each character from a string and if a character is a space then terminate the loop.\n",
        "Input: SAGACITI AI\n",
        "\n",
        "Output: S A G A C I T I"
      ],
      "metadata": {
        "id": "ldn--uVPwXLv"
      }
    },
    {
      "cell_type": "code",
      "source": [
        "x=input()\n",
        "sen=x.split(\" \")[0]\n",
        "i=0\n",
        "n=len(sen)\n",
        "while (i<n):\n",
        "  if i==(n-1):\n",
        "    print(sen[i],end=\" \")\n",
        "  else:\n",
        "    print(sen[i],end=\" \")\n",
        "  i+=1\n",
        "  "
      ],
      "metadata": {
        "colab": {
          "base_uri": "https://localhost:8080/"
        },
        "id": "cXxzUK8fnqNg",
        "outputId": "afa068ac-4b3d-4b06-c1cf-271b44cc49dc"
      },
      "execution_count": null,
      "outputs": [
        {
          "output_type": "stream",
          "name": "stdout",
          "text": [
            "sa ga\n",
            "s a "
          ]
        }
      ]
    },
    {
      "cell_type": "markdown",
      "source": [
        "#37. Write a while loop to display each character from a string and if a character is a space, then don’t display it and move to the next character.\n",
        "Input: SA GA CITI\n",
        "Output: S A G A C I T I"
      ],
      "metadata": {
        "id": "VOU39XKQCWur"
      }
    },
    {
      "cell_type": "code",
      "source": [
        "x=input()\n",
        "y=x.replace(\" \",\"\")\n",
        "print(\" \".join(y))\n"
      ],
      "metadata": {
        "colab": {
          "base_uri": "https://localhost:8080/"
        },
        "id": "8INeTPL8Gso3",
        "outputId": "5c3ba3c7-6770-40b4-e1e4-ffd85f70c451"
      },
      "execution_count": null,
      "outputs": [
        {
          "output_type": "stream",
          "name": "stdout",
          "text": [
            "SA GA CITI\n",
            "S A G A C I T I\n"
          ]
        }
      ]
    },
    {
      "cell_type": "markdown",
      "source": [
        "#Range ()\n",
        "\n",
        "#38. Create a range from 0 to 10 with steps of 2."
      ],
      "metadata": {
        "id": "vjXgyP_SIYp6"
      }
    },
    {
      "cell_type": "code",
      "source": [
        "for i in range(0,11,2):\n",
        "  print(i,end=\" \")"
      ],
      "metadata": {
        "colab": {
          "base_uri": "https://localhost:8080/"
        },
        "id": "F1FKAMD2IiYe",
        "outputId": "43245e8b-075c-42c4-e303-6ffa1776b4ed"
      },
      "execution_count": null,
      "outputs": [
        {
          "output_type": "stream",
          "name": "stdout",
          "text": [
            "0 2 4 6 8 10 "
          ]
        }
      ]
    },
    {
      "cell_type": "markdown",
      "source": [
        "#39. Create a range from 100 to 160 with steps of 10. Then print it as a list.\n"
      ],
      "metadata": {
        "id": "60ygCaITI1Xk"
      }
    },
    {
      "cell_type": "code",
      "source": [
        "li=[]\n",
        "for i in range(100,170,10):\n",
        "  li.append(i)\n",
        "print(li)\n",
        "  \n",
        "  "
      ],
      "metadata": {
        "colab": {
          "base_uri": "https://localhost:8080/"
        },
        "id": "-2zLuln3I6mq",
        "outputId": "f7c21e0e-474d-4f77-f8f5-9fc70be7beef"
      },
      "execution_count": null,
      "outputs": [
        {
          "output_type": "stream",
          "name": "stdout",
          "text": [
            "[100, 110, 120, 130, 140, 150, 160]\n"
          ]
        }
      ]
    },
    {
      "cell_type": "markdown",
      "source": [
        "#40. Can you create a list from 1300 to 700 with descending steps of 100? Is your stop value included in the list?"
      ],
      "metadata": {
        "id": "kWibvHLJLA62"
      }
    },
    {
      "cell_type": "code",
      "source": [
        "li=[]\n",
        "for i in range(1300,600,-100):\n",
        "  li.append(i)\n",
        "print(li)"
      ],
      "metadata": {
        "colab": {
          "base_uri": "https://localhost:8080/"
        },
        "id": "LM2bao7gLaBQ",
        "outputId": "2a2d4e9f-f4bd-4dc4-e05b-93829ce8bd58"
      },
      "execution_count": null,
      "outputs": [
        {
          "output_type": "stream",
          "name": "stdout",
          "text": [
            "[1300, 1200, 1100, 1000, 900, 800, 700]\n"
          ]
        }
      ]
    },
    {
      "cell_type": "markdown",
      "source": [
        "#41. Create a range from 0 to 50, excluding 50"
      ],
      "metadata": {
        "id": "eKdyvmJbL0-2"
      }
    },
    {
      "cell_type": "code",
      "source": [
        "for i in range(0,50):\n",
        "  print(i,end=\" \")"
      ],
      "metadata": {
        "colab": {
          "base_uri": "https://localhost:8080/"
        },
        "id": "lwW-rXsmL73H",
        "outputId": "06d1fae2-cb55-4f7f-b2af-03b03a723440"
      },
      "execution_count": null,
      "outputs": [
        {
          "output_type": "stream",
          "name": "stdout",
          "text": [
            "0 1 2 3 4 5 6 7 8 9 10 11 12 13 14 15 16 17 18 19 20 21 22 23 24 25 26 27 28 29 30 31 32 33 34 35 36 37 38 39 40 41 42 43 44 45 46 47 48 49 "
          ]
        }
      ]
    },
    {
      "cell_type": "markdown",
      "source": [
        "#**COLLECTION PROBLEM**\n",
        "## 2nd page"
      ],
      "metadata": {
        "id": "mtkEHOGdMrMo"
      }
    },
    {
      "cell_type": "markdown",
      "source": [],
      "metadata": {
        "id": "gCCyAA53M1rf"
      }
    },
    {
      "cell_type": "markdown",
      "source": [
        "1.Write a Python program to find the most common element of a given list.\n",
        "\n",
        "Sample Output:\n",
        "\n",
        "Original list:\n",
        "\n",
        "['PHP', 'PHP', 'Python', 'PHP', 'Python', 'JS', 'Python', 'Python', 'PHP', 'Python']\n",
        "\n",
        "Most common element of the said list:\n",
        "Python"
      ],
      "metadata": {
        "id": "Rc69Bua8M-Vl"
      }
    },
    {
      "cell_type": "code",
      "source": [
        "from statistics import mode\n",
        "n=int(input(\"How many numbers you want in list?: \"))\n",
        "list1=[]\n",
        "for i in range(n):\n",
        "  list1.append((input()))\n",
        "print(\"Your list is :\",list1)\n",
        "print(mode(list1))\n"
      ],
      "metadata": {
        "id": "U-CsNK9iNRGl",
        "colab": {
          "base_uri": "https://localhost:8080/"
        },
        "outputId": "0509098c-d726-478a-efb9-5447e3366ad6"
      },
      "execution_count": null,
      "outputs": [
        {
          "output_type": "stream",
          "name": "stdout",
          "text": [
            "How many numbers you want in list?: 4\n",
            "php\n",
            "python\n",
            "c\n",
            "python\n",
            "Your list is : ['php', 'python', 'c', 'python']\n",
            "python\n"
          ]
        }
      ]
    },
    {
      "cell_type": "markdown",
      "source": [
        "4. Write a Python program to merge more than one dictionary in a single \n",
        "expression.\n",
        "\n",
        "Sample Output:\n",
        "\n",
        "Original dictionaries:\n",
        "\n",
        "{'R': 'Red', 'B': 'Black', 'P': 'Pink'} {'G': 'Green', 'W': 'White'}\n",
        "\n",
        "Merged dictionary:\n",
        "\n",
        "{'B': 'Black', 'R': 'Red', 'P': 'Pink', 'G': 'Green', 'W': 'White'}\n",
        "\n",
        "Original dictionaries:\n",
        "\n",
        "{'R': 'Red', 'B': 'Black', 'P': 'Pink'} {'G': 'Green', 'W': 'White'} {'O': 'Orange', 'W': \n",
        "'White', 'B': 'Black'}\n",
        "\n",
        "Merged dictionary:\n",
        "\n",
        "{'B': 'Black', 'R': 'Red', 'P': 'Pink', 'G': 'Green', 'W': 'White', 'O': 'Orange'}"
      ],
      "metadata": {
        "id": "sgfcUwi1Fsqe"
      }
    },
    {
      "cell_type": "code",
      "source": [
        "import collections as ct\n",
        "def merge_dictionaries(color1,color2):\n",
        "    merged_dict = dict(ct.ChainMap({}, color1, color2))\n",
        "    return merged_dict\n",
        "color1 = { \"R\": \"Red\", \"B\": \"Black\", \"P\": \"Pink\" }\n",
        "color2 = { \"G\": \"Green\", \"W\": \"White\" }\n",
        "print(\"Original dictionaries:\")\n",
        "print(color1,' ',color2)\n",
        "print(\"\\nMerged dictionary:\")\n",
        "print(merge_dictionaries(color1, color2))\n",
        "\n",
        "def merge_dictionaries(color1,color2, color3):\n",
        "    merged_dict = dict(ct.ChainMap({}, color1, color2, color3))\n",
        "    return merged_dict\n",
        "\n",
        "color1 = { \"R\": \"Red\", \"B\": \"Black\", \"P\": \"Pink\" }\n",
        "color2 = { \"G\": \"Green\", \"W\": \"White\" }\n",
        "color3 = { \"O\": \"Orange\", \"W\": \"White\", \"B\": \"Black\" }\n",
        "\n",
        "print(\"\\nOriginal dictionaries:\")\n",
        "print(color1,' ',color2, color3)\n",
        "print(\"\\nMerged dictionary:\")\n",
        "# Duplicate colours have automatically removed.\n",
        "print(merge_dictionaries(color1, color2, color3))"
      ],
      "metadata": {
        "colab": {
          "base_uri": "https://localhost:8080/"
        },
        "id": "pZwy9wQZGRCP",
        "outputId": "e1883b5a-67df-41c8-f826-f63ac883f4e6"
      },
      "execution_count": null,
      "outputs": [
        {
          "output_type": "stream",
          "name": "stdout",
          "text": [
            "Original dictionaries:\n",
            "{'R': 'Red', 'B': 'Black', 'P': 'Pink'}   {'G': 'Green', 'W': 'White'}\n",
            "\n",
            "Merged dictionary:\n",
            "{'G': 'Green', 'W': 'White', 'R': 'Red', 'B': 'Black', 'P': 'Pink'}\n",
            "\n",
            "Original dictionaries:\n",
            "{'R': 'Red', 'B': 'Black', 'P': 'Pink'}   {'G': 'Green', 'W': 'White'} {'O': 'Orange', 'W': 'White', 'B': 'Black'}\n",
            "\n",
            "Merged dictionary:\n",
            "{'O': 'Orange', 'W': 'White', 'B': 'Black', 'G': 'Green', 'R': 'Red', 'P': 'Pink'}\n"
          ]
        }
      ]
    },
    {
      "cell_type": "markdown",
      "source": [
        "6.Write a Python program to find the item with maximum frequency in a given \n",
        "list.\n",
        "\n",
        "Sample Output:\n",
        "\n",
        "Original list:\n",
        "\n",
        "[2, 3, 8, 4, 7, 9, 8, 2, 6, 5, 1, 6, 1, 2, 3, 2, 4, 6, 9, 1, 2]\n",
        "\n",
        "Item with maximum frequency of the said list:\n",
        "(2, 5)"
      ],
      "metadata": {
        "id": "-l_zIuZTH2ei"
      }
    },
    {
      "cell_type": "code",
      "source": [
        "test_list = [2, 3, 8, 4, 7, 9, 8, 2, 6, 5, 1, 6, 1, 2, 3, 2, 4, 6, 9, 1, 2]\n",
        "y=str(test_list)\n",
        "# printing original list\n",
        "print (\"Original list : \" + y)\n",
        "  \n",
        "# using naive method to \n",
        "# get most frequent element\n",
        "max = 0\n",
        "res = test_list[0]\n",
        "for i in test_list:\n",
        "    freq = test_list.count(i)\n",
        "    if freq > max:\n",
        "        max = freq\n",
        "        res = i\n",
        "      \n",
        "# printing result\n",
        "x=str(res)\n",
        "z=y.count(x)\n",
        "\n",
        "print (\"Most frequent number is : (\",x,\",\",z,\")\")"
      ],
      "metadata": {
        "colab": {
          "base_uri": "https://localhost:8080/"
        },
        "id": "UZHGS87HH0cC",
        "outputId": "a4032836-9297-4364-b9ce-8acc0993c68f"
      },
      "execution_count": null,
      "outputs": [
        {
          "output_type": "stream",
          "name": "stdout",
          "text": [
            "Original list : [2, 3, 8, 4, 7, 9, 8, 2, 6, 5, 1, 6, 1, 2, 3, 2, 4, 6, 9, 1, 2]\n",
            "Most frequent number is : ( 2 , 5 )\n"
          ]
        }
      ]
    },
    {
      "cell_type": "markdown",
      "source": [
        "7.Write a Python program to count most and least common characters in a given \n",
        "string.\n",
        "\n",
        "Sample Output:\n",
        "\n",
        "Original string:\n",
        "\n",
        "hello world\n",
        "\n",
        "Most common character of the said string: l\n",
        "\n",
        "Least common character of the said string: h\n"
      ],
      "metadata": {
        "id": "-6Ho6DE5kcPP"
      }
    },
    {
      "cell_type": "code",
      "source": [
        "string = \"hello world\";  \n",
        "freq = [None] * len(string);  \n",
        "minChar = string[0];  \n",
        "maxChar = string[0];  \n",
        "   \n",
        "#Count each word in given string and store in array freq  \n",
        "for i in range(0, len(string)):  \n",
        "    freq[i] = 1;  \n",
        "    for j in range(i+1, len(string)):  \n",
        "        if(string[i] == string[j] and string[i] != ' ' and string[i] != '0'):  \n",
        "            freq[i] = freq[i] + 1;  \n",
        "              \n",
        "            #Set string[j] to 0 to avoid printing visited character  \n",
        "            string = string[ : j] + '0' + string[j+1: ];  \n",
        "              \n",
        "#Determine minimum and maximum occurring characters  \n",
        "min = max = freq[0];  \n",
        "for i in range(0, len(freq)):  \n",
        "      \n",
        "    #If min is greater than frequency of a character  \n",
        "    #then, store frequency in min and corresponding character in minChar  \n",
        "    if(min > freq[i] and freq[i] != '0'):  \n",
        "        min = freq[i];  \n",
        "        minChar = string[i];  \n",
        "    #If max is less than frequency of a character   \n",
        "    #then, store frequency in max and corresponding character in maxChar  \n",
        "    if(max < freq[i]):  \n",
        "        max = freq[i];  \n",
        "        maxChar = string[i];  \n",
        "print(\"hello world\")  \n",
        "print(\"Minimum occurring character: \" + minChar);  \n",
        "print(\"Maximum occurring character: \" + maxChar);  "
      ],
      "metadata": {
        "colab": {
          "base_uri": "https://localhost:8080/"
        },
        "id": "MO7R2KHum10X",
        "outputId": "3924ce28-3951-4017-baf7-82b0597da355"
      },
      "execution_count": 21,
      "outputs": [
        {
          "output_type": "stream",
          "name": "stdout",
          "text": [
            "hello world\n",
            "Minimum occurring character: h\n",
            "Maximum occurring character: l\n"
          ]
        }
      ]
    },
    {
      "cell_type": "markdown",
      "source": [
        "8.Write a Python program to insert an element at the beginning of a given \n",
        "OrderedDictionary.\n",
        "\n",
        "Sample Output:\n",
        "\n",
        "Original OrderedDict:\n",
        "\n",
        "OrderedDict([('color1', 'Red'), ('color2', 'Green'), ('color3', 'Blue')])\n",
        "\n",
        "Insert an element at the beginning of the said OrderedDict:\n",
        "\n",
        "Updated OrderedDict:\n",
        "\n",
        "OrderedDict([('color4', 'Orange'), ('color1', 'Red'), ('color2', 'Green'), ('color3', \n",
        "'Blue')]"
      ],
      "metadata": {
        "id": "-wzXs5r2vMG6"
      }
    },
    {
      "cell_type": "code",
      "source": [
        "from collections import OrderedDict\n",
        "color_orderdict = OrderedDict([('color1', 'Red'), ('color2', 'Green'), ('color3', 'Blue')]) \n",
        "print(\"Original OrderedDict:\")\n",
        "print(color_orderdict)\n",
        "print(\"Insert an element at the beginning of the said OrderedDict:\")\n",
        "color_orderdict.update({'color4':'Orange'})\n",
        "color_orderdict.move_to_end('color4', last = False)\n",
        "print(\"\\nUpdated OrderedDict:\")\n",
        "print(color_orderdict)\n"
      ],
      "metadata": {
        "colab": {
          "base_uri": "https://localhost:8080/"
        },
        "id": "E8ItD8GVpGVp",
        "outputId": "0debdfeb-51ef-4bd1-e51e-0113747002f4"
      },
      "execution_count": 22,
      "outputs": [
        {
          "output_type": "stream",
          "name": "stdout",
          "text": [
            "Original OrderedDict:\n",
            "OrderedDict([('color1', 'Red'), ('color2', 'Green'), ('color3', 'Blue')])\n",
            "Insert an element at the beginning of the said OrderedDict:\n",
            "\n",
            "Updated OrderedDict:\n",
            "OrderedDict([('color4', 'Orange'), ('color1', 'Red'), ('color2', 'Green'), ('color3', 'Blue')])\n"
          ]
        }
      ]
    },
    {
      "cell_type": "markdown",
      "source": [
        "9. Write a Python program to get the frequency of the tuples in a given list.\n",
        "\n",
        "Sample Output:\n",
        "\n",
        "Original list of tuples:\n",
        "\n",
        "[(['1', '4'], ['4', '1'], ['3', '4'], ['2', '7'], ['6', '8'], ['5', '8'], ['6', '8'], ['5', '7'], ['2', '7'])]\n",
        "\n",
        "Tuples frequency\n",
        "\n",
        "('1', '4') 2\n",
        "\n",
        "('3', '4') 1\n",
        "\n",
        "('2', '7') 2\n",
        "\n",
        "('6', '8') 2\n",
        "\n",
        "('5', '8') 1\n",
        "\n",
        "('5', '7') 1\n"
      ],
      "metadata": {
        "id": "8SvYNADyvbYx"
      }
    },
    {
      "cell_type": "code",
      "source": [
        "from collections import Counter\n",
        "nums = [(['1', '4'], ['4', '1'], ['3', '4'], ['2', '7'], ['6', '8'], ['5','8'], ['6','8'], ['5','7'], ['2','7'])]\n",
        "print(\"Original list of tuples:\")\n",
        "print(nums)\n",
        "result = Counter(tuple(sorted(i)) for i in nums[0])\n",
        "print(\"\\nTuples\",\"    \",\"frequency\")\n",
        "for key,val in result.items():\n",
        "    print(key,\" \", val)"
      ],
      "metadata": {
        "colab": {
          "base_uri": "https://localhost:8080/"
        },
        "id": "TLoFE0G5vqLQ",
        "outputId": "b7a25008-e2fb-4eeb-cc85-18d8b7ee51d8"
      },
      "execution_count": 23,
      "outputs": [
        {
          "output_type": "stream",
          "name": "stdout",
          "text": [
            "Original list of tuples:\n",
            "[(['1', '4'], ['4', '1'], ['3', '4'], ['2', '7'], ['6', '8'], ['5', '8'], ['6', '8'], ['5', '7'], ['2', '7'])]\n",
            "\n",
            "Tuples      frequency\n",
            "('1', '4')   2\n",
            "('3', '4')   1\n",
            "('2', '7')   2\n",
            "('6', '8')   2\n",
            "('5', '8')   1\n",
            "('5', '7')   1\n"
          ]
        }
      ]
    },
    {
      "cell_type": "markdown",
      "source": [
        "9.Write a Python program to calculate the maximum aggregate from the list of \n",
        "tuples (pairs).\n",
        "\n",
        "Sample Output:\n",
        "\n",
        "Original list:\n",
        "\n",
        "[('Juan Whelan', 90), ('Sabah Colley', 88), ('Peter Nichols', 7), ('Juan Whelan', \n",
        "122), ('Sabah Colley', 84)]\n",
        "\n",
        "Maximum aggregate value of the said list of tuple pair:\n",
        "('Juan Whelan', 212)\n"
      ],
      "metadata": {
        "id": "BDdb02cowBNP"
      }
    },
    {
      "cell_type": "code",
      "source": [
        "# pari naa"
      ],
      "metadata": {
        "id": "_d764TT3wkMi"
      },
      "execution_count": 29,
      "outputs": []
    },
    {
      "cell_type": "markdown",
      "source": [
        "10.Write a Python program to find the characters in a list of strings which occur \n",
        "more than and less than a given number.\n",
        "\n",
        "Sample Output:\n",
        "\n",
        "Original list:\n",
        "\n",
        "['abcd', 'iabhef', 'dsalsdf', 'sdfsas', 'jlkdfgd']\n",
        "\n",
        "Characters of the said list of strings which occur more than: 3\n",
        "\n",
        "['a', 'd', 'f']\n",
        "\n",
        "Characters of the said list of strings which occur less than: 3\n",
        "\n",
        "['c', 'b', 'h', 'e', 'i', 's', 'l', 'k', 'j', 'g']\n"
      ],
      "metadata": {
        "id": "3QIWKa1Uy_Z_"
      }
    },
    {
      "cell_type": "code",
      "source": [
        "from collections import Counter \n",
        "from itertools import chain \n",
        "def max_aggregate(list_str, N):\n",
        "    temp = (set(sub) for sub in list_str) \n",
        "    counts = Counter(chain.from_iterable(temp)) \n",
        "    gt_N =  [chr for chr, count in counts.items() if count > N]\n",
        "    lt_N =  [chr for chr, count in counts.items() if count < N]\n",
        "    return gt_N, lt_N\n",
        "     \n",
        "list_str = ['abcd', 'iabhef', 'dsalsdf', 'sdfsas', 'jlkdfgd'] \n",
        "print(\"Original list:\")\n",
        "print(list_str)\n",
        "N = 3\n",
        "result = max_aggregate(list_str, N)\n",
        "print(\"\\nCharacters of the said list of strings which occur more than:\",N)\n",
        "print(result[0])\n",
        "print(\"\\nCharacters of the said list of strings which occur less than:\",N)\n",
        "print(result[1])"
      ],
      "metadata": {
        "colab": {
          "base_uri": "https://localhost:8080/"
        },
        "id": "lIieKRtFzT5K",
        "outputId": "24f00038-b266-4c58-a837-73d249b5046b"
      },
      "execution_count": 30,
      "outputs": [
        {
          "output_type": "stream",
          "name": "stdout",
          "text": [
            "Original list:\n",
            "['abcd', 'iabhef', 'dsalsdf', 'sdfsas', 'jlkdfgd']\n",
            "\n",
            "Characters of the said list of strings which occur more than: 3\n",
            "['a', 'd', 'f']\n",
            "\n",
            "Characters of the said list of strings which occur less than: 3\n",
            "['c', 'b', 'h', 'e', 'i', 's', 'l', 'j', 'k', 'g']\n"
          ]
        }
      ]
    },
    {
      "cell_type": "markdown",
      "source": [
        "11. Write a Python program to find the difference between two list including \n",
        "duplicate elements. Use collections module.\n",
        "\n",
        "Sample Output:\n",
        "\n",
        "Original lists:\n",
        "[3, 3, 4, 7]\n"
      ],
      "metadata": {
        "id": "oF8FUvfSzeal"
      }
    },
    {
      "cell_type": "code",
      "source": [
        "from collections import Counter\n",
        "l1 = [1,1,2,3,3,4,4,5,6,7]\n",
        "l2 = [1,1,2,4,5,6]\n",
        "print(\"Original lists:\")\n",
        "c1 = Counter(l1)\n",
        "c2 = Counter(l2)\n",
        "diff = c1-c2\n",
        "print(list(diff.elements()))"
      ],
      "metadata": {
        "colab": {
          "base_uri": "https://localhost:8080/"
        },
        "id": "K28nBvF7zp6W",
        "outputId": "bb360c4f-8e66-4cd6-a317-ddaae7b56543"
      },
      "execution_count": 31,
      "outputs": [
        {
          "output_type": "stream",
          "name": "stdout",
          "text": [
            "Original lists:\n",
            "[3, 3, 4, 7]\n"
          ]
        }
      ]
    },
    {
      "cell_type": "markdown",
      "source": [],
      "metadata": {
        "id": "l8J4TNuBz5M0"
      }
    }
  ]
}