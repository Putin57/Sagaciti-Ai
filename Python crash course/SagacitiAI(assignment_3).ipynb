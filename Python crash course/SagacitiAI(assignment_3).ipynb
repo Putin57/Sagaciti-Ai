{
  "nbformat": 4,
  "nbformat_minor": 0,
  "metadata": {
    "colab": {
      "provenance": [],
      "collapsed_sections": []
    },
    "kernelspec": {
      "name": "python3",
      "display_name": "Python 3"
    },
    "language_info": {
      "name": "python"
    }
  },
  "cells": [
    {
      "cell_type": "markdown",
      "source": [
        "#**Class**\n",
        "\n",
        "Exercise 1\n",
        "\n",
        "Write a class having two private variables and one member function which will return \n",
        "the area of the rectangle."
      ],
      "metadata": {
        "id": "mLxDh9Ys-Rb5"
      }
    },
    {
      "cell_type": "code",
      "source": [
        "class Area:\n",
        "  def __init__(self,a,b):\n",
        "    self.a=a\n",
        "    self.b=b\n",
        "  def rectangle(self):\n",
        "    return (.5*self.a*self.b)\n",
        "a=int(input())\n",
        "b=int(input())\n",
        "x=Area(a,b)\n",
        "print(x.rectangle())"
      ],
      "metadata": {
        "colab": {
          "base_uri": "https://localhost:8080/"
        },
        "id": "jKwAnmKM-aFx",
        "outputId": "e3edd353-675d-43be-c820-04493cd4cf43"
      },
      "execution_count": null,
      "outputs": [
        {
          "output_type": "stream",
          "name": "stdout",
          "text": [
            "4\n",
            "6\n",
            "12.0\n"
          ]
        }
      ]
    },
    {
      "cell_type": "markdown",
      "source": [
        "Exercise 2\n",
        "\n",
        "Write a program and input two integers in main and pass them to default constructor of \n",
        "the class. Show the result of the addition of two numbers.\n"
      ],
      "metadata": {
        "id": "XAuDMVNq1WjE"
      }
    },
    {
      "cell_type": "code",
      "source": [
        "class Addition:\n",
        "  def __init__(self,a,b):\n",
        "    self.a=a\n",
        "    self.b=b\n",
        "  def add(self):\n",
        "    return (self.a+self.b)\n",
        "a=int(input())\n",
        "b=int(input())\n",
        "x=Addition(a,b)\n",
        "print(x.add())\n"
      ],
      "metadata": {
        "colab": {
          "base_uri": "https://localhost:8080/"
        },
        "id": "WKCxqGhg1h3i",
        "outputId": "eee04b3b-69d3-48d1-bb20-7bd5d7fe85b8"
      },
      "execution_count": null,
      "outputs": [
        {
          "output_type": "stream",
          "name": "stdout",
          "text": [
            "4\n",
            "6\n",
            "10\n"
          ]
        }
      ]
    },
    {
      "cell_type": "markdown",
      "source": [
        "Exercise 3\n",
        "\n",
        "Write a Python program to create two empty classes, Student and Marks. Now create \n",
        "some instances and check whether they are instances of the said classes or not. Also, \n",
        "check whether the said classes are subclasses of the built-in object class or not\n"
      ],
      "metadata": {
        "id": "zvdiBkYQ3UTV"
      }
    },
    {
      "cell_type": "code",
      "source": [
        "# Unneccessary"
      ],
      "metadata": {
        "id": "kkTQds6d3YEx"
      },
      "execution_count": null,
      "outputs": []
    },
    {
      "cell_type": "markdown",
      "source": [
        "Exercise 4\n",
        "\n",
        "Write a Python function student_data () which will print the id of a student (student_id). \n",
        "If the user passes an argument student_name or student_class the function will print \n",
        "the student name and class.\n"
      ],
      "metadata": {
        "id": "S1D_3R9bG1GR"
      }
    },
    {
      "cell_type": "code",
      "source": [
        "def student_data(student_id, **kwargs):\n",
        "    print(f'\\nStudent ID: {student_id}')\n",
        "    if 'student_name' in kwargs:\n",
        "        print(f\"Student Name: $ {kwargs['student_name']}\")\n",
        "    \n",
        "    if 'student_name' and 'student_class' in kwargs:\n",
        "            print(f\"\\nStudent Name: $ {kwargs['student_name']}\")\n",
        "            print(f\"Student Class: $ {kwargs['student_class']}\")\n",
        "\n",
        " \n",
        "student_data(student_id='SV12', student_name='Meow Meow')\n",
        "\n",
        "student_data(student_id='SV12', student_name='Meow Meow', student_class ='V')\n"
      ],
      "metadata": {
        "colab": {
          "base_uri": "https://localhost:8080/"
        },
        "id": "VunceMOGG-A_",
        "outputId": "b44b96d6-a417-417d-c7dc-c2f62b991d24"
      },
      "execution_count": null,
      "outputs": [
        {
          "output_type": "stream",
          "name": "stdout",
          "text": [
            "\n",
            "Student ID: SV12\n",
            "Student Name: $ Meow Meow\n",
            "\n",
            "Student ID: SV12\n",
            "Student Name: $ Meow Meow\n",
            "\n",
            "Student Name: $ Meow Meow\n",
            "Student Class: $ V\n"
          ]
        }
      ]
    },
    {
      "cell_type": "markdown",
      "source": [
        "Exercise 5\n",
        "\n",
        "Write a Python class named Student with two attributes student_id, student_name. Add \n",
        "a new attribute student_class. Create a function to display the entire attribute and their \n",
        "values in Student class.\n"
      ],
      "metadata": {
        "id": "PfFMvJ8DHo5T"
      }
    },
    {
      "cell_type": "code",
      "source": [
        "class Student:\n",
        "    student_id = 'V10'\n",
        "    student_name = 'Gheow Gheow'\n",
        "    def display():\n",
        "        print(f'Student id: {Student.student_id}\\nStudent Name: {Student.student_name}')\n",
        "print(\"Original attributes and their values of the Student class:\")\n",
        "Student.display()\n"
      ],
      "metadata": {
        "colab": {
          "base_uri": "https://localhost:8080/"
        },
        "id": "FQ7IrPm9IKtG",
        "outputId": "06d85e5f-b740-45df-8d0d-14d37df589c1"
      },
      "execution_count": null,
      "outputs": [
        {
          "output_type": "stream",
          "name": "stdout",
          "text": [
            "Original attributes and their values of the Student class:\n",
            "Student id: V10\n",
            "Student Name: Gheow Gheow\n"
          ]
        }
      ]
    },
    {
      "cell_type": "markdown",
      "source": [
        "Exercise 6\n",
        "\n",
        "Write a Python class which has two methods get_String and print_String. get_String \n",
        "accept a string from the user and print_String print the string in upper case.\n"
      ],
      "metadata": {
        "id": "KGyoi9L_K2CH"
      }
    },
    {
      "cell_type": "code",
      "source": [
        "class IOString():\n",
        "    def __init__(self):\n",
        "        self.str1 = \"\"\n",
        "\n",
        "    def get_String(self):\n",
        "        self.str1 = input()\n",
        "\n",
        "    def print_String(self):\n",
        "        print(self.str1.upper())\n",
        "\n",
        "str1 = IOString()\n",
        "str1.get_String()\n",
        "str1.print_String()\n"
      ],
      "metadata": {
        "colab": {
          "base_uri": "https://localhost:8080/"
        },
        "id": "M0UCTpOFQN4I",
        "outputId": "fdf3f0b9-8693-4a40-f991-7a9df96f1ee9"
      },
      "execution_count": null,
      "outputs": [
        {
          "output_type": "stream",
          "name": "stdout",
          "text": [
            "uiiu\n",
            "UIIU\n"
          ]
        }
      ]
    },
    {
      "cell_type": "markdown",
      "source": [
        "Exercise 7\n",
        "\n",
        "Write a class called 'student' with The program asks the user to enter name and marks. \n",
        "Then calc_media() calculates the media note and disp() display name and total media \n",
        "mark on screen in different lines."
      ],
      "metadata": {
        "id": "Ksl5x9_bQlNn"
      }
    },
    {
      "cell_type": "code",
      "source": [
        "# i can't understand the question\n"
      ],
      "metadata": {
        "id": "NFLV8i9lQpzx"
      },
      "execution_count": null,
      "outputs": []
    },
    {
      "cell_type": "markdown",
      "source": [
        "Exercise 8\n",
        "\n",
        "Perform addition operation on complex data using class and object. The program should \n",
        "ask for real and imaginary part of two complex numbers, and display the real and \n",
        "imaginary parts of their sum.\n"
      ],
      "metadata": {
        "id": "0YExNDXhR3s3"
      }
    },
    {
      "cell_type": "code",
      "source": [
        "class Complex ():\n",
        "    def initComplex(self):\n",
        "        self.realPart = int(input(\"Enter the Real Part: \"))\n",
        "        self.imgPart = int(input(\"Enter the Imaginary Part: \"))            \n",
        "\n",
        "    def display(self):\n",
        "        print(self.realPart,\"+\",self.imgPart,\"i\", sep=\"\")\n",
        "\n",
        "    def sum(self, c1, c2):\n",
        "        self.realPart = c1.realPart + c2.realPart\n",
        "        self.imgPart = c1.imgPart + c2.imgPart\n",
        "\n",
        "c1 = Complex()\n",
        "c2 = Complex()\n",
        "c3 = Complex()\n",
        "\n",
        "print(\"Enter first complex number\")\n",
        "c1.initComplex()\n",
        "print(\"First Complex Number: \", end=\"\")\n",
        "c1.display()\n",
        "\n",
        "print(\"Enter second complex number\")\n",
        "c2.initComplex()\n",
        "print(\"Second Complex Number: \", end=\"\")\n",
        "c2.display()\n",
        "\n",
        "print(\"Sum of two complex numbers is \", end=\"\")\n",
        "c3.sum(c1,c2)\n",
        "c3.display()"
      ],
      "metadata": {
        "id": "OOCWMQSgSBc7"
      },
      "execution_count": null,
      "outputs": []
    },
    {
      "cell_type": "markdown",
      "source": [
        "Exercise 9\n",
        "\n",
        "Write a Python class named Circle constructed by a radius and two methods which will \n",
        "compute the area and the perimeter of a circle.\n"
      ],
      "metadata": {
        "id": "y1dGkzgMSt9r"
      }
    },
    {
      "cell_type": "code",
      "source": [
        "class Circule():\n",
        "  def __init__(self,a):\n",
        "    self.a=a\n",
        "  def area(self):\n",
        "    return (3.1416*(self.a)*(self.a))\n",
        "a=int(input())\n",
        "x=Circule(a)\n",
        "print(x.area())\n"
      ],
      "metadata": {
        "colab": {
          "base_uri": "https://localhost:8080/"
        },
        "id": "4unGLBMRS1sH",
        "outputId": "dae5b9db-ecf1-40f4-b441-dab86a163508"
      },
      "execution_count": null,
      "outputs": [
        {
          "output_type": "stream",
          "name": "stdout",
          "text": [
            "4\n",
            "50.2656\n"
          ]
        }
      ]
    },
    {
      "cell_type": "markdown",
      "source": [
        "#**Inheritance**\n",
        "\n"
      ],
      "metadata": {
        "id": "C5KMhlpUhiKk"
      }
    },
    {
      "cell_type": "markdown",
      "source": [
        "1.Create a new class that inherits from the class App"
      ],
      "metadata": {
        "id": "3LYkWK0Jl8P5"
      }
    },
    {
      "cell_type": "code",
      "source": [
        "class Person:\n",
        "  def __init__(self, fname, lname):\n",
        "    self.firstname = fname\n",
        "    self.lastname = lname\n",
        "\n",
        "  def printname(self):\n",
        "    print(self.firstname, self.lastname)\n",
        "\n",
        "#Use the Person class to create an object, and then execute the printname method:\n",
        "\n",
        "x = Person(\"John\", \"Doe\")\n",
        "x.printname()"
      ],
      "metadata": {
        "id": "VRi4W7TZmJ--"
      },
      "execution_count": null,
      "outputs": []
    },
    {
      "cell_type": "markdown",
      "source": [
        "2.Try to create a class that inherits from two super classes (multiple inheritance)\n"
      ],
      "metadata": {
        "id": "OvThupb2nj9U"
      }
    },
    {
      "cell_type": "code",
      "source": [
        "class Class1:\n",
        "    def m(self):\n",
        "        print(\"In Class1\")\n",
        "       \n",
        "class Class2(Class1):\n",
        "    def m(self):\n",
        "        print(\"In Class2\")\n",
        " \n",
        "class Class3(Class1):\n",
        "    def m(self):\n",
        "        print(\"In Class3\") \n",
        "        \n",
        "class Class4(Class2, Class3):\n",
        "    pass  \n",
        "     \n",
        "obj = Class4()\n",
        "obj.m()\n"
      ],
      "metadata": {
        "colab": {
          "base_uri": "https://localhost:8080/"
        },
        "id": "pSd1lJWSnpAi",
        "outputId": "f149397c-4b6a-4dc7-96f5-720e1864568d"
      },
      "execution_count": null,
      "outputs": [
        {
          "output_type": "stream",
          "name": "stdout",
          "text": [
            "In Class2\n"
          ]
        }
      ]
    },
    {
      "cell_type": "markdown",
      "source": [
        "3.Create a SavingsAccount class that behaves just like a BankAccount, but also has an \n",
        "interest rate and a method that increases the balance by the appropriate amount \n",
        "of interest.\n"
      ],
      "metadata": {
        "id": "zJN2-eKaotcQ"
      }
    },
    {
      "cell_type": "code",
      "source": [
        "from datetime import date\n",
        " \n",
        "class Account : \n",
        "    def __init__ ( self, number ) :\n",
        "        self.number = number\n",
        "      \n",
        "    def account_type(self) :\n",
        "        # Get the account type\n",
        "        if str(self.number).startswith(\"1\") :\n",
        "            self.type = \"current\"\n",
        "        elif str(self.number).startswith(\"2\") :\n",
        "            self.type = \"saving\"\n",
        "     \n",
        "    def interest_rate(self) :\n",
        "         \n",
        "        self.account_type()\n",
        "        if self.type == \"current\" :\n",
        "            self.interest = 0\n",
        "        elif self.type == \"saving\" :\n",
        "            self.interest = 5\n",
        "        return self.interest\n",
        "     \n",
        "    def interest_accrued(self) :\n",
        "     \n",
        "        # call interest_rate to determine the interest rate\n",
        "        self.interest_rate()\n",
        " \n",
        "        self.balance = 1000\n",
        " \n",
        "        # to calculate the number of days in the year so far, include datetime above the class definition\n",
        "        current_date   = date.today()\n",
        "        beginning_date = date(current_date.year, 1,1)\n",
        " \n",
        "        self.interest_accrued = self.balance * (abs(current_date - beginning_date ).days / 365) * self.interest / 100\n",
        "\n",
        "acc = Account(2001)\n",
        "acc.interest_accrued()\n",
        "print ( acc.balance )\n",
        "acc.interest_accrued\n"
      ],
      "metadata": {
        "colab": {
          "base_uri": "https://localhost:8080/"
        },
        "id": "_zsTYB3qowk3",
        "outputId": "ed789d2c-de85-433e-e181-14f0c6d7222c"
      },
      "execution_count": null,
      "outputs": [
        {
          "output_type": "stream",
          "name": "stdout",
          "text": [
            "1000\n"
          ]
        },
        {
          "output_type": "execute_result",
          "data": {
            "text/plain": [
              "36.301369863013704"
            ]
          },
          "metadata": {},
          "execution_count": 16
        }
      ]
    },
    {
      "cell_type": "markdown",
      "source": [
        "\n",
        "4.Create a child class Student which inherits from the Person class and \n",
        "which also has a section attribute."
      ],
      "metadata": {
        "id": "gT6ROPXNr4aH"
      }
    },
    {
      "cell_type": "code",
      "source": [
        "class Person:\n",
        "    # define constructor with name and age as parameters\n",
        "    def __init__(self, name, age):\n",
        "        self.name = name\n",
        "        self.age = age\n",
        "    # create display method fro Person class\n",
        "    def display(self):\n",
        "        print(\"Person name : \", self.name)\n",
        "        print(\"Person age = \", self.age)\n",
        "    \n",
        "# create child class Student of Person class\n",
        "class Student(Person):\n",
        "    # define constructor of Student class with section additional parameters \n",
        "    def __init__(self, name , age , section):\n",
        "        Person.__init__(self,name, age)\n",
        "        self.section = section\n",
        "    \n",
        "    # Create display method for Student class\n",
        "    def displayStudent(self):\n",
        "        print(\"Student name : \", self.name)\n",
        "        print(\"Student age = \", self.age)\n",
        "        print(\"Student section = \", self.section)\n",
        "    \n",
        "# Testing Person class\n",
        "P = Person(\"Tomas Wild\", 37)\n",
        "P.display()\n",
        "print(\"-------------------------------\")\n",
        "S = Student(\"Albert\", 23 , \"Mathematics\")\n",
        "S.displayStudent()"
      ],
      "metadata": {
        "id": "dfoBpgaKsGn7"
      },
      "execution_count": null,
      "outputs": []
    },
    {
      "cell_type": "markdown",
      "source": [
        "5.Create a method displayStudent() that displays the name, age and section \n",
        "of an object created via the Student class."
      ],
      "metadata": {
        "id": "G8Fo3BhQstFf"
      }
    },
    {
      "cell_type": "code",
      "source": [
        "#ajaira alap.."
      ],
      "metadata": {
        "id": "OJaZ87OCs2oU"
      },
      "execution_count": null,
      "outputs": []
    },
    {
      "cell_type": "markdown",
      "source": [
        "#**OOP**\n"
      ],
      "metadata": {
        "id": "bgV-YESR1hGh"
      }
    },
    {
      "cell_type": "markdown",
      "source": [
        "Exercises 1\n",
        "\n",
        "Write a program that defines a shape class with a constructor that gives value to width \n",
        "and height. The define two sub-classes triangle and rectangle, that calculate the area of \n",
        "the shape area (). In the main, define two variables a triangle and a rectangle and then \n",
        "call the area() function in this two varibles."
      ],
      "metadata": {
        "id": "MBen4pxW1oMu"
      }
    },
    {
      "cell_type": "code",
      "source": [
        "class Area:\n",
        "  def __init__(self,a,b):\n",
        "    self.a=a\n",
        "    self.b=b\n",
        "  def triangle(self):\n",
        "    print(\"Area of Triangle :\",(.5*self.a*self.b))\n",
        "  def rectangle(self):\n",
        "    print(\"Area of Rectangle :\",(self.a*self.b))\n",
        "\n",
        "a=int(input(\"Enter a number: \"))\n",
        "b=int(input(\"Enter another number: \"))\n",
        "x=Area(a,b)\n",
        "x.triangle()\n",
        "x.rectangle()"
      ],
      "metadata": {
        "id": "o4PD-deZ1yM7",
        "colab": {
          "base_uri": "https://localhost:8080/"
        },
        "outputId": "e8e85f5c-d611-4d49-f585-6f35bd121d01"
      },
      "execution_count": 6,
      "outputs": [
        {
          "output_type": "stream",
          "name": "stdout",
          "text": [
            "Enter a number: 4\n",
            "Enter another number: 5\n",
            "Area of Triangle : 10.0\n",
            "Area of Rectangle : 20\n"
          ]
        }
      ]
    },
    {
      "cell_type": "markdown",
      "source": [
        "Exercise 2\n",
        "\n",
        "Write a program with a mother class and an inherited daugther class.Both of them \n",
        "should have a method void display ()that prints a message (different for mother and \n",
        "daugther).In the main define a daughter and call the display() method on it."
      ],
      "metadata": {
        "id": "2kiI8CsK1yve"
      }
    },
    {
      "cell_type": "code",
      "source": [
        "# I can't understand your question"
      ],
      "metadata": {
        "id": "E83ZGPgl15Z-"
      },
      "execution_count": null,
      "outputs": []
    },
    {
      "cell_type": "markdown",
      "source": [
        "Exercise 3\n",
        "\n",
        "Write a probram with a mother class animal. Inside it define a name and an age \n",
        "variables, and set_value() function.Then create two bases variables Zebra and Dolphin \n",
        "which write a message telling the age, the name and giving some extra information (e.g. \n",
        "place of origin)."
      ],
      "metadata": {
        "id": "4ZJd1xq116Ai"
      }
    },
    {
      "cell_type": "code",
      "source": [
        "# we don't know above animal's age..."
      ],
      "metadata": {
        "id": "OtCZiT_T2AcI"
      },
      "execution_count": null,
      "outputs": []
    }
  ]
}